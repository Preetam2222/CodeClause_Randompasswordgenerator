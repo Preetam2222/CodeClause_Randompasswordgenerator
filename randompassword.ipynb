{
 "cells": [
  {
   "cell_type": "code",
   "execution_count": 1,
   "metadata": {},
   "outputs": [],
   "source": [
    "import random\n",
    "import string\n",
    "import tkinter as tk\n",
    "from tkinter import * \n",
    "\n",
    "def random_password():\n",
    "    pwd=''\n",
    "    length=12\n",
    "    lower = string.ascii_lowercase\n",
    "    upper = string.ascii_uppercase\n",
    "    num = string.digits\n",
    "    symbol = string.punctuation\n",
    "    all = lower + upper + num + symbol\n",
    "    temp = random.sample(all,length)\n",
    "    pwd = \"\".join(temp)\n",
    "    ans.set(pwd)\n",
    "\n",
    "generate = tk.Tk()\n",
    "generate.title(\"Preetam password generator\")\n",
    "generate.geometry(\"500x500\")\n",
    "\n",
    "generate.configure(bg='#5F9EA0')\n",
    "Label(generate,text = \"RANDOM PASSWORD GENERATOR\",font=30).pack(pady=10)\n",
    "\n",
    "ans=StringVar()\n",
    "submit = Button(generate,text = \"Click\",font=20,width = 30,command = random_password,fg=\"#191970\").pack(pady=5)\n",
    "Entry(generate,text=\"password: \",textvariable=ans,width=20,font=60,fg=\"#DB7093\").pack()\n",
    "generate.mainloop()"
   ]
  }
 ],
 "metadata": {
  "kernelspec": {
   "display_name": "Python 3",
   "language": "python",
   "name": "python3"
  },
  "language_info": {
   "codemirror_mode": {
    "name": "ipython",
    "version": 3
   },
   "file_extension": ".py",
   "mimetype": "text/x-python",
   "name": "python",
   "nbconvert_exporter": "python",
   "pygments_lexer": "ipython3",
   "version": "3.11.1"
  },
  "orig_nbformat": 4
 },
 "nbformat": 4,
 "nbformat_minor": 2
}
